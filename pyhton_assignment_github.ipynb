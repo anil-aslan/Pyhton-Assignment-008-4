{
  "nbformat": 4,
  "nbformat_minor": 0,
  "metadata": {
    "colab": {
      "name": "pyhton assignment github",
      "provenance": [],
      "authorship_tag": "ABX9TyMdu3MbA6+bueA1bJt/FFrA",
      "include_colab_link": true
    },
    "kernelspec": {
      "name": "python3",
      "display_name": "Python 3"
    },
    "language_info": {
      "name": "python"
    }
  },
  "cells": [
    {
      "cell_type": "markdown",
      "metadata": {
        "id": "view-in-github",
        "colab_type": "text"
      },
      "source": [
        "<a href=\"https://colab.research.google.com/github/anil-aslan/Pyhton-Assignment-008-4/blob/main/pyhton_assignment_github.ipynb\" target=\"_parent\"><img src=\"https://colab.research.google.com/assets/colab-badge.svg\" alt=\"Open In Colab\"/></a>"
      ]
    },
    {
      "cell_type": "code",
      "metadata": {
        "colab": {
          "base_uri": "https://localhost:8080/"
        },
        "id": "6cQRaAcxux0h",
        "outputId": "67d50002-9477-4786-d3ed-fb25459fd894"
      },
      "source": [
        "n = int(input(\"Please enter a number to check if it's a prime number\"))\n",
        "count = 0\n",
        "for i in range (1, n+1) : \n",
        "  if n % i == 0 :\n",
        "    count += 1\n",
        "\n",
        "if (n == 0) or (n == 1) or (count >= 3) : \n",
        "  print(n, \"is not a prime number\")\n",
        "else : \n",
        "  print(n, \"is a prime number\")\n",
        "  "
      ],
      "execution_count": null,
      "outputs": [
        {
          "output_type": "stream",
          "text": [
            "Please enter a number to check if it's a prime number15\n",
            "15 is not a prime number\n"
          ],
          "name": "stdout"
        }
      ]
    },
    {
      "cell_type": "code",
      "metadata": {
        "id": "FNkRdh5Su4Hf"
      },
      "source": [
        ""
      ],
      "execution_count": null,
      "outputs": []
    }
  ]
}